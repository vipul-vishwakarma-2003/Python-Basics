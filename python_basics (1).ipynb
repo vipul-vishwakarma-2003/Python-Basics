{
  "nbformat": 4,
  "nbformat_minor": 0,
  "metadata": {
    "colab": {
      "provenance": []
    },
    "kernelspec": {
      "name": "python3",
      "display_name": "Python 3"
    },
    "language_info": {
      "name": "python"
    }
  },
  "cells": [
    {
      "cell_type": "markdown",
      "source": [
        "Python Basics\n",
        "\n",
        "\n",
        "\n",
        "---\n",
        "1. What is Python, and why is it popular?\n",
        "   - Python is a general-purpose programming language created by Guido van Rossum in the 1980s. It is incredibly versatile, flexible, and beginner-friendly; hence is 2023's most popular programming language worldwide. Python is the most popular yet easiest programming language to learn.\n",
        "\n",
        "2. What is an interpreter in Python?\n",
        "   - A python interpreter is a computer program that converts each high-level program statement into machine code.\n",
        "\n",
        "3. What are pre-defined keywords in Python?\n",
        "    -  A Python keyword is a word that serves a specific function in Python. It is limited to one single function and it can not be set as a variable name, a function name, or the value of any other identifier. The purpose of the keyword is to define the syntax of the code.\n",
        "\n",
        "4. Can keywords be used as variable names?\n",
        "    - we cannot use keywords as variable name because keywords already has there meaning.\n",
        "\n",
        "5. What is mutability in Python?\n",
        "   - mutability means we can make changes after it's get created.\n",
        "\n",
        "6. Why are lists mutable, but tuples are immutable?\n",
        "    - Tuples and lists are the same in every way except two: tuples use parentheses instead of square brackets, and the items in tuples cannot be modified (but the items in lists can be modified). We often call lists mutable (meaning they can be changed) and tuples immutable (meaning they cannot be changed).\n",
        "\n",
        "7. What is the difference between “==” and “is” operators in Python?\n",
        "   - The '==' is known as the equality operator. The 'is' is known as the identity operator. The '==' operator helps us compare the equality of objects. The 'is' operator helps us check whether different variables point towards a similar object in the memory.\n",
        "8. What are logical operators in Python\n",
        "   - In Python, logical operators carry out logical operations and return Boolean values based on the result. We need to verify multiple conditions simultaneously or use logical operators by combining multiple conditions in some cases. There are three types of logical operators in Python And, or & not operator.\n",
        "\n",
        "9. What is type casting in Python?\n",
        "   - type casting converts the data type into another data type.\n",
        "\n",
        "10. What is the difference between implicit and explicit type casting?\n",
        "    - Implicit type conversion is performed by a Python interpreter only. Explicit type conversion is performed by the user by explicitly using type conversion functions in the program code.\n",
        "\n",
        "11. What is the purpose of conditional statements in Python?\n",
        "    - Conditional statements are an essential part of programming in Python. They allow you to make decisions based on the values of variables or the result of comparisons.\n",
        "\n",
        "12. How does the elif statement work?\n",
        "    - elif satement works when the if statement is false. if the 'if' statement is True then elif statement does not excutes, we can use elif statement multiple time.\n",
        "\n",
        "13. What is the difference between for and while loops?\n",
        "    - Both for loop and while loop is used to execute the statements repeatedly while the program runs. The major difference between for loop and while loop is that for loop is used when the number of iterations is known, whereas execution is done in a while loop until the statement in the program is proved wrong.\n",
        "\n",
        "14. Describe a scenario where a while loop is more suitable than a for loop.\n",
        "    - If you want the loop to break based on a condition other than the number of times it runs, you should use a while loop.\n"
      ],
      "metadata": {
        "id": "uQ_8TZKFSzgN"
      }
    },
    {
      "cell_type": "code",
      "execution_count": 3,
      "metadata": {
        "colab": {
          "base_uri": "https://localhost:8080/"
        },
        "id": "GP3Ajfo2Sx85",
        "outputId": "ade5d0af-567e-46f0-8091-e71f6bfd4316"
      },
      "outputs": [
        {
          "output_type": "stream",
          "name": "stdout",
          "text": [
            "Hello, World!\n"
          ]
        }
      ],
      "source": [
        "#1. Write a Python program to print \"Hello, World!\"\n",
        "\n",
        "print(\"Hello, World!\")"
      ]
    },
    {
      "cell_type": "code",
      "source": [
        "#2. Write a Python program that displays your name and age.\n",
        "\n",
        "name = \"vipul\"\n",
        "age = 21\n",
        "print(name, age)"
      ],
      "metadata": {
        "colab": {
          "base_uri": "https://localhost:8080/"
        },
        "id": "69a6fZ4Vciq7",
        "outputId": "32375475-5e37-48b0-8017-7987ad7c4157"
      },
      "execution_count": 2,
      "outputs": [
        {
          "output_type": "stream",
          "name": "stdout",
          "text": [
            "vipul 21\n"
          ]
        }
      ]
    },
    {
      "cell_type": "code",
      "source": [
        "#3. Write code to print all the pre-defined keywords in Python using the keyword library\n",
        "\n",
        "import keyword\n",
        "print(keyword.kwlist)"
      ],
      "metadata": {
        "colab": {
          "base_uri": "https://localhost:8080/"
        },
        "id": "A2tMaDmic7Nz",
        "outputId": "e13d612c-5588-4136-e3b0-534cbcb1440a"
      },
      "execution_count": 4,
      "outputs": [
        {
          "output_type": "stream",
          "name": "stdout",
          "text": [
            "['False', 'None', 'True', 'and', 'as', 'assert', 'async', 'await', 'break', 'class', 'continue', 'def', 'del', 'elif', 'else', 'except', 'finally', 'for', 'from', 'global', 'if', 'import', 'in', 'is', 'lambda', 'nonlocal', 'not', 'or', 'pass', 'raise', 'return', 'try', 'while', 'with', 'yield']\n"
          ]
        }
      ]
    },
    {
      "cell_type": "code",
      "source": [
        "#4. Write a program that checks if a given word is a Python keyword.\n",
        "\n",
        "import keyword\n",
        "s = keyword.kwlist\n",
        "word = input(\"enter any word : \")\n",
        "if word in s :\n",
        "    print(f\"the word {word} is exist in the keyword list.\")\n",
        "else:\n",
        "    print(\"given word is not exist in python keyword list.\")"
      ],
      "metadata": {
        "colab": {
          "base_uri": "https://localhost:8080/"
        },
        "id": "ZJQlCa1tej8z",
        "outputId": "f2aa5788-d96e-436b-9d78-a4e7b794a2ce"
      },
      "execution_count": 5,
      "outputs": [
        {
          "output_type": "stream",
          "name": "stdout",
          "text": [
            "enter any word : abc\n",
            "given word is not exist in python keyword list.\n"
          ]
        }
      ]
    },
    {
      "cell_type": "code",
      "source": [
        "#5.  Create a list and tuple in Python, and demonstrate how attempting to change an element works differently for each.\n",
        "\n",
        "list = [\"abc\", \"def\", 123, 2.5]\n",
        "tuple = (\"ghi\", \"jkl\", 555, 5.8)\n",
        "\n",
        "list[0] = \"xyz\"\n",
        "print(list)\n",
        "\n",
        "tuple[0] = \"abc\" #it will show an error as tuple is an immutable object.\n",
        "print(tuple)"
      ],
      "metadata": {
        "id": "ItR7Z2sNgJXz"
      },
      "execution_count": null,
      "outputs": []
    },
    {
      "cell_type": "code",
      "source": [
        " #6. Write a function to demonstrate the behavior of mutable and immutable arguments\n",
        "\n",
        "list1 = [\"abc\", \"def\", 123, 2.5]\n",
        "tuple1 = (\"ghi\", \"jkl\", 555, 5.8)\n",
        "\n",
        "list1[0] = \"xyz\" # it will excutes succesfully as list is mutable object.\n",
        "print(list1)\n",
        "\n",
        "tuple1[0] = \"abc\" #it will show an error as tuple is an immutable object."
      ],
      "metadata": {
        "id": "NygipFiPiGED"
      },
      "execution_count": null,
      "outputs": []
    },
    {
      "cell_type": "code",
      "source": [
        "#8.  Write a program to demonstrate the use of logical operators\n",
        "\n",
        "a = 10\n",
        "b = 11\n",
        "\n",
        "if a<10 and b < 10:\n",
        "    print(\"both conditions are True.\")\n",
        "else:\n",
        "    print(\"one of them or both are False conditions.\")\n",
        "\n",
        "print(\"it's show the 'and' operator relation.\")\n",
        "\n",
        "c = 12\n",
        "d = 5\n",
        "\n",
        "if c < 10 or d < 10:\n",
        "    print(\"one of them or both conditons are True conditions.\")\n",
        "else:\n",
        "    print(\"both condition are False.\")\n",
        "\n",
        "print(\"it's show the 'OR' operator relation.\")\n",
        "\n",
        "#not operator reverse the results."
      ],
      "metadata": {
        "colab": {
          "base_uri": "https://localhost:8080/"
        },
        "id": "bsUgYSiSi0Ej",
        "outputId": "117b4412-4ea5-4ff0-ad04-d9e448a63c91"
      },
      "execution_count": 6,
      "outputs": [
        {
          "output_type": "stream",
          "name": "stdout",
          "text": [
            "one of them or both are False conditions.\n",
            "it's show the 'and' operator relation.\n",
            "one of them or both conditons are True conditions.\n",
            "it's show the 'OR' operator relation.\n"
          ]
        }
      ]
    },
    {
      "cell_type": "code",
      "source": [
        "#9.  Write a Python program to convert user input from string to integer, float, and boolean types.\n",
        "\n",
        "a = input(\"enter any number a : \")\n",
        "a = int(a)\n",
        "print(type(a))\n",
        "\n",
        "b = input(\"enter any number b : \")\n",
        "b = float(b)\n",
        "print(type(b))\n",
        "\n",
        "c = input(\"enter any number c :\")\n",
        "c = bool(c)\n",
        "print(type(c))"
      ],
      "metadata": {
        "colab": {
          "base_uri": "https://localhost:8080/"
        },
        "id": "-AqjyU_jq_56",
        "outputId": "48995bd0-c6e8-4673-a081-e36b4d821aeb"
      },
      "execution_count": 7,
      "outputs": [
        {
          "output_type": "stream",
          "name": "stdout",
          "text": [
            "enter any number a : 5\n",
            "<class 'int'>\n",
            "enter any number b : 5\n",
            "<class 'float'>\n",
            "enter any number c :5\n",
            "<class 'bool'>\n"
          ]
        }
      ]
    },
    {
      "cell_type": "code",
      "source": [
        "#10. Write code to demonstrate type casting with list elements.\n",
        "\n",
        "list = [\"abc\", 123, 5.25]\n",
        "\n",
        "print(type(list[0]))\n",
        "list[0] = bool(list[0])\n",
        "print(type(list[0]))"
      ],
      "metadata": {
        "colab": {
          "base_uri": "https://localhost:8080/"
        },
        "id": "zy03jkUMshdZ",
        "outputId": "7d7490b3-4dee-48ea-b233-1b88cf45c29a"
      },
      "execution_count": 8,
      "outputs": [
        {
          "output_type": "stream",
          "name": "stdout",
          "text": [
            "<class 'str'>\n",
            "<class 'bool'>\n"
          ]
        }
      ]
    },
    {
      "cell_type": "code",
      "source": [
        "#11. Write a program that checks if a number is positive, negative, or zero.\n",
        "\n",
        "num = int(input(\"enter a number : \"))\n",
        "\n",
        "if num < 0:\n",
        "    print(f\"number {num} is a negative number.\")\n",
        "elif num == 0:\n",
        "    print(f\"number {num} is equal to zero.\")\n",
        "else:\n",
        "    print(f\"number {num} is a positive number.\")"
      ],
      "metadata": {
        "colab": {
          "base_uri": "https://localhost:8080/"
        },
        "id": "b4lMeGA9uZa_",
        "outputId": "806b0b4f-ca9a-43b1-8953-d089c43c4029"
      },
      "execution_count": 9,
      "outputs": [
        {
          "output_type": "stream",
          "name": "stdout",
          "text": [
            "enter a number : -5\n",
            "number -5 is a negative number.\n"
          ]
        }
      ]
    },
    {
      "cell_type": "code",
      "source": [
        "#12.  Write a for loop to print numbers from 1 to 10.\n",
        "\n",
        "for i in range(1,11):\n",
        "    print(i)"
      ],
      "metadata": {
        "colab": {
          "base_uri": "https://localhost:8080/"
        },
        "id": "5lbrIWQ9vrMx",
        "outputId": "7eb7abec-0ff8-47dd-b311-a90f3d96b905"
      },
      "execution_count": 10,
      "outputs": [
        {
          "output_type": "stream",
          "name": "stdout",
          "text": [
            "1\n",
            "2\n",
            "3\n",
            "4\n",
            "5\n",
            "6\n",
            "7\n",
            "8\n",
            "9\n",
            "10\n"
          ]
        }
      ]
    },
    {
      "cell_type": "code",
      "source": [
        "#13. Write a Python program to find the sum of all even numbers between 1 and 50.\n",
        "\n",
        "num = 50\n",
        "i = 0\n",
        "j = 0\n",
        "while i <= num:\n",
        "    j = j + i\n",
        "    i = i + 1\n",
        "\n",
        "print(\"total sum = \",j)"
      ],
      "metadata": {
        "colab": {
          "base_uri": "https://localhost:8080/"
        },
        "id": "1xoU4NOYwErK",
        "outputId": "8ecdae83-77b2-4c29-c76b-2bae61520331"
      },
      "execution_count": 11,
      "outputs": [
        {
          "output_type": "stream",
          "name": "stdout",
          "text": [
            "total sum =  1275\n"
          ]
        }
      ]
    },
    {
      "cell_type": "code",
      "source": [
        "#14. Write a program to reverse a string using a while loop.\n",
        "\n",
        "str = \"abcd\"\n",
        "x = len(str)-1\n",
        "while x >= str.index(\"a\"):\n",
        "    print(str[x])\n",
        "    x = x - 1"
      ],
      "metadata": {
        "colab": {
          "base_uri": "https://localhost:8080/"
        },
        "id": "eOTaukMnxMr5",
        "outputId": "6b69ae62-de10-4fbb-b99a-6961e1a5926a"
      },
      "execution_count": 12,
      "outputs": [
        {
          "output_type": "stream",
          "name": "stdout",
          "text": [
            "d\n",
            "c\n",
            "b\n",
            "a\n"
          ]
        }
      ]
    },
    {
      "cell_type": "code",
      "source": [
        "#15.  Write a Python program to calculate the factorial of a number provided by the user using a while loop.\n",
        "\n",
        "num = int(input(\"enter a number to get factorial : \"))\n",
        "i = 1\n",
        "j = 1\n",
        "\n",
        "while i <= num:\n",
        "    j = j * i\n",
        "    i += 1\n",
        "\n",
        "print(\"for the number\",num,\"factorial is =\",j)"
      ],
      "metadata": {
        "colab": {
          "base_uri": "https://localhost:8080/"
        },
        "id": "7dQXdTNT1kpg",
        "outputId": "91e6e6d3-c444-43f3-b942-effb7c453a4e"
      },
      "execution_count": 13,
      "outputs": [
        {
          "output_type": "stream",
          "name": "stdout",
          "text": [
            "enter a number to get factorial : 5\n",
            "for the number 5 factorial is = 120\n"
          ]
        }
      ]
    }
  ]
}